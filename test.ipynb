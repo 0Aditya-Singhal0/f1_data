{
 "cells": [
  {
   "cell_type": "code",
   "execution_count": 39,
   "metadata": {},
   "outputs": [],
   "source": [
    "import requests\n",
    "import csv\n",
    "import io\n",
    "import pandas as pd\n",
    "# pd.set_option(\"display.max_rows\", None)"
   ]
  },
  {
   "cell_type": "code",
   "execution_count": 40,
   "metadata": {},
   "outputs": [],
   "source": [
    "keys = [\n",
    "    \"meetings\",\n",
    "    \"pit\",\n",
    "    \"position\",\n",
    "    \"race_control\",\n",
    "    \"sessions\",\n",
    "    \"stints\",\n",
    "    \"team_radio\",\n",
    "    \"weather\",\n",
    "    \"location\",\n",
    "    \"drivers\",\n",
    "    ]\n",
    "keys_2 = [\n",
    "    \"laps\",\n",
    "    \"intervals\",\n",
    "    \"car_data\",\n",
    "    ]"
   ]
  },
  {
   "cell_type": "code",
   "execution_count": 41,
   "metadata": {},
   "outputs": [],
   "source": [
    "def fetch_data(key):\n",
    "    url = f\"https://api.openf1.org/v1/{key}?csv=true\"\n",
    "\n",
    "    payload = {}\n",
    "    headers = {}\n",
    "\n",
    "    response = requests.request(\"GET\", url, headers=headers, data=payload)\n",
    "\n",
    "    csv_file_like_object = io.StringIO(response.text)\n",
    "\n",
    "    csv_reader = csv.reader(csv_file_like_object)\n",
    "\n",
    "    with open(f\"data/{key}.csv\", mode='a', newline='') as file:\n",
    "                csv_writer = csv.writer(file)\n",
    "                \n",
    "                # Write rows from the csv.reader to the file\n",
    "                for row in csv_reader:\n",
    "                    csv_writer.writerow(row)"
   ]
  },
  {
   "cell_type": "code",
   "execution_count": 42,
   "metadata": {},
   "outputs": [],
   "source": [
    "try:\n",
    "    for key in keys:\n",
    "        fetch_data(key)\n",
    "    driver_df = pd.read_csv(\"data/drivers.csv\")\n",
    "    driver_numbers = driver_df[\"driver_number\"].unique().tolist()\n",
    "    \n",
    "    sessions_df = pd.read_csv(\"data/sessions.csv\")\n",
    "    session_keys = sessions_df[\"session_key\"].unique().tolist()\n",
    "    \n",
    "        \n",
    "except Exception as e:\n",
    "    print(e)"
   ]
  },
  {
   "cell_type": "code",
   "execution_count": null,
   "metadata": {},
   "outputs": [],
   "source": []
  },
  {
   "cell_type": "code",
   "execution_count": 43,
   "metadata": {},
   "outputs": [
    {
     "data": {
      "text/plain": [
       "Index(['circuit_key', 'circuit_short_name', 'country_code', 'country_key',\n",
       "       'country_name', 'date_end', 'date_start', 'gmt_offset', 'location',\n",
       "       'meeting_key', 'session_key', 'session_name', 'session_type', 'year'],\n",
       "      dtype='object')"
      ]
     },
     "execution_count": 43,
     "metadata": {},
     "output_type": "execute_result"
    }
   ],
   "source": [
    "sessions_df = pd.read_csv(\"data/sessions.csv\")\n",
    "sessions_df.columns\n"
   ]
  },
  {
   "cell_type": "code",
   "execution_count": null,
   "metadata": {},
   "outputs": [],
   "source": []
  }
 ],
 "metadata": {
  "kernelspec": {
   "display_name": "f1",
   "language": "python",
   "name": "python3"
  },
  "language_info": {
   "codemirror_mode": {
    "name": "ipython",
    "version": 3
   },
   "file_extension": ".py",
   "mimetype": "text/x-python",
   "name": "python",
   "nbconvert_exporter": "python",
   "pygments_lexer": "ipython3",
   "version": "3.10.14"
  }
 },
 "nbformat": 4,
 "nbformat_minor": 2
}
